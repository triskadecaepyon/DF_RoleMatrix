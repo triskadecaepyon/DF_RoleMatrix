{
 "metadata": {
  "name": "",
  "signature": "sha256:5c478bad5a5722c10daacf8b5243cd2ce9fc813d05625acb76911b8981ff5e24"
 },
 "nbformat": 3,
 "nbformat_minor": 0,
 "worksheets": [
  {
   "cells": [
    {
     "cell_type": "code",
     "collapsed": false,
     "input": [
      "import os, sys\n",
      "\n",
      "lib_path = os.path.abspath(os.path.join('.', '..'))\n",
      "sys.path.append(lib_path)\n",
      "\n",
      "from logical_token import Token\n",
      "from network import *\n",
      "from logical_node import *\n",
      "from role_criteria import *"
     ],
     "language": "python",
     "metadata": {},
     "outputs": [],
     "prompt_number": 1
    },
    {
     "cell_type": "markdown",
     "metadata": {},
     "source": [
      "#Attempt at adapted RoleMatrix"
     ]
    },
    {
     "cell_type": "code",
     "collapsed": false,
     "input": [
      "class CompPowerRoleCriteria(RoleCriteria):\n",
      "    \n",
      "    # Consider importing this calculation\n",
      "    # Note the global value must be more than 0 for the mul. masks to work\n",
      "    __GLOBAL_ROLES_LIST__ = []\n",
      "    __PROCESSING_POWER__ = 0\n",
      "    __MEMORY_CAPABILITIES__ = 0\n",
      "    __GPU_POWER__ = 0\n",
      "    __NETWORK_SPEED__ = 0\n",
      "    __STORAGE__CAP = 0\n",
      "    __FLEX__ = 0\n",
      "    __GRADE_VECTOR__ = []\n",
      "    __ROLE__ = 0\n",
      "    name = \"\"\n",
      "    \n",
      "    def __init__(self, grade_vector, name=\"\"):\n",
      "        #print('Created Container for Work unit')\n",
      "        self.__GRADE_VECTOR__ = grade_vector\n",
      "        self.__PROCESSING_POWER__ = self.__GRADE_VECTOR__[0]\n",
      "        self.__MEMORY_CAPABILITIES__ = self.__GRADE_VECTOR__[1]\n",
      "        self.__GPU_POWER__ = self.__GRADE_VECTOR__[2]\n",
      "        self.__NETWORK_SPEED__ = self.__GRADE_VECTOR__[3]\n",
      "        self.__STORAGE__CAP = self.__GRADE_VECTOR__[4]\n",
      "        self.__generate_flexibility__()\n",
      "        self.name = name\n",
      "        \n",
      "    def __generate_flexibility__(self):\n",
      "        temp_grade = self.get_scalar_grade(self.__GRADE_VECTOR__)\n",
      "        self.__FLEX__ = temp_grade\n",
      "        \n",
      "    def get_scalar_grade(self, role_grade_vector):\n",
      "        \"\"\"\n",
      "        A very basic variant of flexibility grading (or the null method).  \n",
      "        Creates a grade on how flexible the system is to all types of task,\n",
      "        such that priority is pivoted by flexibility ratings. \n",
      "        \"\"\"\n",
      "        temp_grade = 0\n",
      "        #print(self.__GRADE_VECTOR__[0])\n",
      "        if role_grade_vector[0] > 0:\n",
      "            temp_grade += role_grade_vector[0] * 3\n",
      "        if role_grade_vector[1] > 1:\n",
      "            temp_grade += role_grade_vector[1] * 2\n",
      "        if role_grade_vector[2] > 1:\n",
      "            temp_grade += role_grade_vector[2] * 2\n",
      "        if role_grade_vector[3] > 1:\n",
      "            temp_grade += role_grade_vector[3]\n",
      "        if role_grade_vector[4] > 1:\n",
      "            temp_grade += role_grade_vector[4]\n",
      "            \n",
      "        return temp_grade\n",
      "    \n",
      "    def get_my_grade(self):\n",
      "        return self.__FLEX__\n",
      "    \n",
      "    def evaluate_against(self, node_parameters):\n",
      "        \"\"\"\n",
      "        Used to compare roles from a 5 element list of values.  \n",
      "        Returns a binary list if the role is satisfied or not.  \n",
      "        \"\"\"\n",
      "        # Return a binary true if it can handle the role\n",
      "        role_satisfy = [0, 0, 0, 0, 0]\n",
      "        \n",
      "        if self.__PROCESSING_POWER__ > node_parameters[0]:\n",
      "            role_satisfy[0] = 1\n",
      "        if self.__MEMORY_CAPABILITIES__ > node_parameters[1]:\n",
      "            role_satisfy[1] = 1\n",
      "        if self.__GPU_POWER__ > node_parameters[2]:\n",
      "            role_satisfy[2] = 1\n",
      "        if self.__NETWORK_SPEED__ > node_parameters[3]:\n",
      "            role_satisfy[3] = 1\n",
      "        if self.__STORAGE__CAP > node_parameters[4]:\n",
      "            role_satisfy[4] = 1\n",
      "            \n",
      "        # Change to simpler\n",
      "        # return role_satisfy\n",
      "        # print self.get_scalar_grade(self.__GRADE_VECTOR__),  self.get_scalar_grade(node_parameters)\n",
      "        \n",
      "        # At least 3 of the functionality thresholds are met\n",
      "        if role_satisfy.count(1) >= 3:\n",
      "            return 1\n",
      "        else:\n",
      "            # Even if 3 aren't met, I have enough capabilities to get something done\n",
      "            if self.get_scalar_grade(self.__GRADE_VECTOR__) >= self.get_scalar_grade(node_parameters):\n",
      "                return 1\n",
      "            else:\n",
      "                return 0"
     ],
     "language": "python",
     "metadata": {},
     "outputs": [],
     "prompt_number": 60
    },
    {
     "cell_type": "code",
     "collapsed": false,
     "input": [
      "# Clients will define their own RoleCriteria, which will expect\n",
      "# a certain set of parameters to evaluate on\n",
      "role_criteria_0 = CompPowerRoleCriteria([1, 1, 5, 2, 5], \"Mobile\")\n",
      "role_criteria_1 = CompPowerRoleCriteria([2, 3, 1, 2, 5], \"Desktop\")\n",
      "role_criteria_2 = CompPowerRoleCriteria([5, 5, 5, 5, 5], \"Server\")\n",
      "role_criterias = [role_criteria_0, role_criteria_1, role_criteria_2]\n",
      "\n",
      "network = SimulatedNetwork(role_criterias)"
     ],
     "language": "python",
     "metadata": {},
     "outputs": [],
     "prompt_number": 61
    },
    {
     "cell_type": "code",
     "collapsed": false,
     "input": [
      "node_0 = LogicalNode(0, [1, 2], network, parameters=[1, 1, 1, 1, 1])\n",
      "node_1 = LogicalNode(1, [], network, parameters=[2, 2, 2, 2, 2])\n",
      "node_2 = LogicalNode(2, [3], network, parameters=[3, 3, 3, 3, 3])\n",
      "node_3 = LogicalNode(3, [], network, parameters=[4, 4, 4, 4, 4])\n",
      "nodes = [node_0, node_1, node_2, node_3]"
     ],
     "language": "python",
     "metadata": {},
     "outputs": [],
     "prompt_number": 62
    },
    {
     "cell_type": "code",
     "collapsed": false,
     "input": [
      "network.set_logical_nodes(nodes)\n",
      "\n",
      "token = node_0.begin_logical_assignment(role_criterias)\n",
      "\n",
      "if token:\n",
      "    print \"Error! Some roles couldn't be satisfied\"\n",
      "    for role_id in token.unassigned_roles:\n",
      "        print \"Role %d: %s\" % (role_id, role_criterias[role_id].name)\n",
      "else:\n",
      "    print \"Success! All roles assigned!\"\n",
      "    for node in nodes:\n",
      "        if node.assigned_role is not None:\n",
      "            print \"Node %d's role: %s\" % (node.node_id, role_criterias[node.assigned_role].name)"
     ],
     "language": "python",
     "metadata": {},
     "outputs": [
      {
       "output_type": "stream",
       "stream": "stdout",
       "text": [
        "Success! All roles assigned!\n",
        "Node 0's role: Mobile\n",
        "Node 1's role: Desktop\n",
        "Node 2's role: Server\n"
       ]
      }
     ],
     "prompt_number": 63
    },
    {
     "cell_type": "code",
     "collapsed": false,
     "input": [],
     "language": "python",
     "metadata": {},
     "outputs": [],
     "prompt_number": 43
    },
    {
     "cell_type": "code",
     "collapsed": false,
     "input": [],
     "language": "python",
     "metadata": {},
     "outputs": []
    }
   ],
   "metadata": {}
  }
 ]
}