{
 "cells": [
  {
   "cell_type": "markdown",
   "metadata": {},
   "source": [
    "#Attempt at framework for heterogenous systems"
   ]
  },
  {
   "cell_type": "code",
   "execution_count": 342,
   "metadata": {
    "collapsed": false
   },
   "outputs": [],
   "source": [
    "class DistCompUnit:\n",
    "    \n",
    "    # Consider importing this calculation\n",
    "    # Note the global value must be more than 0 for the mul. masks to work\n",
    "    __GLOBAL_ROLES_LIST__ = []\n",
    "    __PROCESSING_POWER__ = 0\n",
    "    __MEMORY_CAPABILITIES__ = 0\n",
    "    __GPU_POWER__ = 0\n",
    "    __NETWORK_SPEED__ = 0\n",
    "    __STORAGE__CAP = 0\n",
    "    __FLEX__ = 0\n",
    "    __GRADE_VECTOR__ = []\n",
    "    __ROLE__ = 0\n",
    "    \n",
    "    def __init__(self, grade_vector):\n",
    "        #print('Created Container for Work unit')\n",
    "        self.__GRADE_VECTOR__ = grade_vector\n",
    "        self.__PROCESSING_POWER__ = self.__GRADE_VECTOR__[0]\n",
    "        self.__MEMORY_CAPABILITIES__ = self.__GRADE_VECTOR__[1]\n",
    "        self.__GPU_POWER__ = self.__GRADE_VECTOR__[2]\n",
    "        self.__NETWORK_SPEED__ = self.__GRADE_VECTOR__[3]\n",
    "        self.__STORAGE__CAP = self.__GRADE_VECTOR__[4]\n",
    "        # TODO: check for vector size\n",
    "        self.__generate_flexibility__()\n",
    "        \n",
    "    def __generate_flexibility__(self):\n",
    "        \"\"\"\n",
    "        A very basic variant of flexibility grading (or the null method).  \n",
    "        Creates a grade on how flexible the system is to all types of task,\n",
    "        such that priority is pivoted by flexibility ratings. \n",
    "        \"\"\"\n",
    "        temp_grade = 0\n",
    "        #print(self.__GRADE_VECTOR__[0])\n",
    "        if self.__PROCESSING_POWER__ > 0:\n",
    "            temp_grade += self.__PROCESSING_POWER__ * 3\n",
    "        if self.__MEMORY_CAPABILITIES__ > 1:\n",
    "            temp_grade += self.__MEMORY_CAPABILITIES__ * 2\n",
    "        if self.__GPU_POWER__ > 1:\n",
    "            temp_grade += self.__GPU_POWER__ * 2\n",
    "        if self.__NETWORK_SPEED__ > 1:\n",
    "            temp_grade += self.__NETWORK_SPEED__\n",
    "        if self.__STORAGE__CAP > 1:\n",
    "            temp_grade += self.__STORAGE__CAP \n",
    "            \n",
    "        self.__FLEX__ = temp_grade\n",
    "        #print(temp_grade)\n",
    "        \n",
    "    def get_scalar_grade(self, role_grade_vector):\n",
    "        \n",
    "        #TODO: Merge with __generate_flexibility__\n",
    "        temp_grade = 0\n",
    "        #print(self.__GRADE_VECTOR__[0])\n",
    "        if role_grade_vector[0] > 0:\n",
    "            temp_grade += role_grade_vector[0] * 3\n",
    "        if role_grade_vector[1] > 1:\n",
    "            temp_grade += role_grade_vector[1] * 2\n",
    "        if role_grade_vector[2] > 1:\n",
    "            temp_grade += role_grade_vector[2] * 2\n",
    "        if role_grade_vector[3] > 1:\n",
    "            temp_grade += role_grade_vector[3]\n",
    "        if role_grade_vector[4] > 1:\n",
    "            temp_grade += role_grade_vector[4]\n",
    "            \n",
    "        return temp_grade\n",
    "    \n",
    "    def get_flex(self):\n",
    "        return self.__FLEX__\n",
    "        \n",
    "    def compare_role(self, role_grade_vector):\n",
    "        \"\"\"\n",
    "        Used to compare roles from a 5 element list of values.  \n",
    "        Returns a binary list if the role is satisfied or not.  \n",
    "        \"\"\"\n",
    "        # Return a binary true if it can handle the role\n",
    "        role_satisfy = [0, 0, 0, 0, 0]\n",
    "        if self.__PROCESSING_POWER__ > role_grade_vector[0]:\n",
    "            role_satisfy[0] = 1\n",
    "        if self.__MEMORY_CAPABILITIES__ > role_grade_vector[1]:\n",
    "            role_satisfy[1] = 1\n",
    "        if self.__GPU_POWER__ > role_grade_vector[2]:\n",
    "            role_satisfy[2] = 1\n",
    "        if self.__NETWORK_SPEED__ > role_grade_vector[3]:\n",
    "            role_satisfy[3] = 1\n",
    "        if self.__STORAGE__CAP > role_grade_vector[4]:\n",
    "            role_satisfy[4] = 1\n",
    "        return role_satisfy\n",
    "    \n",
    "    def choose_role(self, role_grade_vector, available_roles):\n",
    "        \"\"\"\n",
    "        Choses the best role from the vector and available roles\n",
    "        \"\"\"\n",
    "        role_determine = None\n",
    "        # determine the roles you can satisfy\n",
    "        role_satisfy = self.compare_role(role_grade_vector)\n",
    "        # print(role_satisfy)\n",
    "        # find the available roles left, and decide and grade from there.\n",
    "        relevant_roles = [i*j for i, j in zip(role_satisfy, available_roles)]\n",
    "        print('relevant roles: ', relevant_roles)\n",
    "        scalar_grade_vector = [i*j for i, j in zip(relevant_roles, role_grade_vector)]\n",
    "        print('grade vectors of relevant roles: ', scalar_grade_vector, max(scalar_grade_vector))\n",
    "        if max(scalar_grade_vector) == 0:\n",
    "            return role_determine\n",
    "        choose_list = [i for i,x in enumerate(scalar_grade_vector) if x == max(scalar_grade_vector)]\n",
    "        print('role (positions) to choose from: ', choose_list)\n",
    "        if len(choose_list) > 0:\n",
    "            print('chosen role', choose_list[0])\n",
    "            role_determine = choose_list[0]\n",
    "        \n",
    "        return role_determine\n",
    "    \n",
    "    def assign_role(self, global_roles = None, current_available_roles = None):\n",
    "        #TODO: Role list\n",
    "        # Choose vector, assign, update vector\n",
    "        if global_roles is None:\n",
    "            if self.__GLOBAL_ROLES_LIST__ == []:\n",
    "                print('empty, no assignment')\n",
    "            else:\n",
    "                # TODO: Need to make better behavior for null selection - perhaps\n",
    "                # create an 'available array?'\n",
    "                selected_role = self.choose_role(self.__GLOBAL_ROLES_LIST__, [1,1,1,1,1])\n",
    "                if selected_role is not None:\n",
    "                    self.__ROLE__ = selected_role\n",
    "                else:\n",
    "                    print(\"no relevant role\")\n",
    "        else:\n",
    "            if min(global_roles) == 0:\n",
    "                print('incorrect format')\n",
    "            else:\n",
    "                self.__GLOBAL_ROLES_LIST__ = global_roles\n",
    "                if current_available_roles is not None:\n",
    "                    selected_role = self.choose_role(self.__GLOBAL_ROLES_LIST__, current_available_roles)\n",
    "                    if selected_role is not None:\n",
    "                        self.__ROLE__ = selected_role\n",
    "                    else:\n",
    "                        print(\"no relevant role\")\n",
    "                else:\n",
    "                    selected_role = self.choose_role(self.__GLOBAL_ROLES_LIST__, [1,1,1,1,1])\n",
    "                    if selected_role is not None:\n",
    "                        self.__ROLE__ = selected_role\n",
    "                    else:\n",
    "                        print(\"no relevant role\")\n"
   ]
  },
  {
   "cell_type": "code",
   "execution_count": 343,
   "metadata": {
    "collapsed": false
   },
   "outputs": [],
   "source": [
    "grade_vector = [1, 1, 5, 2, 5]\n",
    "testContainer = DistCompUnit(grade_vector)"
   ]
  },
  {
   "cell_type": "code",
   "execution_count": 344,
   "metadata": {
    "collapsed": false
   },
   "outputs": [
    {
     "data": {
      "text/plain": [
       "20"
      ]
     },
     "execution_count": 344,
     "metadata": {},
     "output_type": "execute_result"
    }
   ],
   "source": [
    "testContainer.get_flex()"
   ]
  },
  {
   "cell_type": "code",
   "execution_count": 345,
   "metadata": {
    "collapsed": false
   },
   "outputs": [
    {
     "data": {
      "text/plain": [
       "[0, 0, 1, 0, 0]"
      ]
     },
     "execution_count": 345,
     "metadata": {},
     "output_type": "execute_result"
    }
   ],
   "source": [
    "testContainer.compare_role([1,1,4,6,7])"
   ]
  },
  {
   "cell_type": "code",
   "execution_count": 346,
   "metadata": {
    "collapsed": false
   },
   "outputs": [
    {
     "name": "stdout",
     "output_type": "stream",
     "text": [
      "relevant roles:  [0, 0, 1, 1, 0]\n",
      "grade vectors of relevant roles:  [0, 0, 1, 1, 0] 1\n",
      "role (positions) to choose from:  [2, 3]\n",
      "chosen role 2\n"
     ]
    },
    {
     "data": {
      "text/plain": [
       "2"
      ]
     },
     "execution_count": 346,
     "metadata": {},
     "output_type": "execute_result"
    }
   ],
   "source": [
    "testContainer.choose_role([1,1,1,1,7], [1,1,1,1,0])"
   ]
  },
  {
   "cell_type": "code",
   "execution_count": 347,
   "metadata": {
    "collapsed": false
   },
   "outputs": [
    {
     "name": "stdout",
     "output_type": "stream",
     "text": [
      "relevant roles:  [0, 0, 1, 1, 1]\n",
      "grade vectors of relevant roles:  [0, 0, 1, 1, 1] 1\n",
      "role (positions) to choose from:  [2, 3, 4]\n",
      "chosen role 2\n"
     ]
    }
   ],
   "source": [
    "testContainer.assign_role(global_roles=[1,1,1,1,1])"
   ]
  },
  {
   "cell_type": "code",
   "execution_count": 358,
   "metadata": {
    "collapsed": false
   },
   "outputs": [
    {
     "name": "stdout",
     "output_type": "stream",
     "text": [
      "relevant roles:  [0, 0, 0, 1, 1]\n",
      "grade vectors of relevant roles:  [0, 0, 0, 1, 1] 1\n",
      "role (positions) to choose from:  [3, 4]\n",
      "chosen role 3\n"
     ]
    }
   ],
   "source": [
    "testContainer.assign_role(global_roles=[1,1,6,1,1], current_available_roles=[1,1,1,1,1])"
   ]
  },
  {
   "cell_type": "code",
   "execution_count": 359,
   "metadata": {
    "collapsed": false
   },
   "outputs": [
    {
     "name": "stdout",
     "output_type": "stream",
     "text": [
      "relevant roles:  [0, 0, 0, 1, 1]\n",
      "grade vectors of relevant roles:  [0, 0, 0, 1, 1] 1\n",
      "role (positions) to choose from:  [3, 4]\n",
      "chosen role 3\n"
     ]
    }
   ],
   "source": [
    "testContainer.assign_role()"
   ]
  },
  {
   "cell_type": "code",
   "execution_count": null,
   "metadata": {
    "collapsed": true
   },
   "outputs": [],
   "source": []
  }
 ],
 "metadata": {
  "kernelspec": {
   "display_name": "Python 3",
   "language": "python",
   "name": "python3"
  },
  "language_info": {
   "codemirror_mode": {
    "name": "ipython",
    "version": 3
   },
   "file_extension": ".py",
   "mimetype": "text/x-python",
   "name": "python",
   "nbconvert_exporter": "python",
   "pygments_lexer": "ipython3",
   "version": "3.4.3"
  }
 },
 "nbformat": 4,
 "nbformat_minor": 0
}
