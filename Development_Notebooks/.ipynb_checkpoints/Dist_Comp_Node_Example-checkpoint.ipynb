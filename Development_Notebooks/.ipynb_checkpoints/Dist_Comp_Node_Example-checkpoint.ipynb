{
 "cells": [
  {
   "cell_type": "code",
   "execution_count": 1,
   "metadata": {
    "collapsed": false
   },
   "outputs": [],
   "source": [
    "import os\n",
    "import sys\n",
    "import threading\n",
    "\n",
    "lib_path = os.path.abspath(os.path.join('.', '..'))\n",
    "sys.path.append(lib_path)"
   ]
  },
  {
   "cell_type": "markdown",
   "metadata": {},
   "source": [
    "# Import framework modules"
   ]
  },
  {
   "cell_type": "code",
   "execution_count": 2,
   "metadata": {
    "collapsed": false
   },
   "outputs": [],
   "source": [
    "from role_criteria import RoleCriteria\n",
    "from logical_node import LogicalNode\n",
    "from network import LiveNetwork"
   ]
  },
  {
   "cell_type": "markdown",
   "metadata": {},
   "source": [
    "# Define the role criteria template class"
   ]
  },
  {
   "cell_type": "code",
   "execution_count": 3,
   "metadata": {
    "collapsed": false
   },
   "outputs": [],
   "source": [
    "class CompPowerRoleCriteria(RoleCriteria):\n",
    "  \n",
    "    def __init__(self, grade_vector, name):\n",
    "        self.__GRADE_VECTOR__ = grade_vector\n",
    "        self.__PROCESSING_POWER__ = self.__GRADE_VECTOR__[0]\n",
    "        self.__MEMORY_CAPABILITIES__ = self.__GRADE_VECTOR__[1]\n",
    "        self.__GPU_POWER__ = self.__GRADE_VECTOR__[2]\n",
    "        self.__NETWORK_SPEED__ = self.__GRADE_VECTOR__[3]\n",
    "        self.__STORAGE__CAP = self.__GRADE_VECTOR__[4]\n",
    "        self.name = name       \n",
    "    \n",
    "    def evaluate_against(self, node_parameters):\n",
    "        \"\"\"\n",
    "        Used to compare roles from a 5 element list of values.  \n",
    "        Returns the sum of the node_parameters if all characteristics are satisfied.\n",
    "        Otherwise, returns 0.\n",
    "        \"\"\"\n",
    "        \n",
    "        num_characteristics_satisfied = 0\n",
    "        \n",
    "        if node_parameters[0] >= self.__PROCESSING_POWER__:\n",
    "            num_characteristics_satisfied += 1\n",
    "        if node_parameters[1] >= self.__MEMORY_CAPABILITIES__:\n",
    "            num_characteristics_satisfied += 1\n",
    "        if node_parameters[2] >= self.__GPU_POWER__:\n",
    "            num_characteristics_satisfied += 1\n",
    "        if node_parameters[3] >= self.__NETWORK_SPEED__:\n",
    "            num_characteristics_satisfied += 1\n",
    "        if node_parameters[4] >= self.__STORAGE__CAP:\n",
    "            num_characteristics_satisfied += 1\n",
    "            \n",
    "        # All characteristics must be satisfied\n",
    "        if num_characteristics_satisfied == 5:\n",
    "            return sum(node_parameters)\n",
    "        else:\n",
    "            return 0"
   ]
  },
  {
   "cell_type": "markdown",
   "metadata": {},
   "source": [
    "# Instantiate role criterias to create different roles"
   ]
  },
  {
   "cell_type": "code",
   "execution_count": 4,
   "metadata": {
    "collapsed": false
   },
   "outputs": [],
   "source": [
    "# [processing_power, memory_capabilities, gpu_power, network_speed, storage_cap]\n",
    "role_criterias = [\n",
    "    CompPowerRoleCriteria([1, 1, 1, 1, 1], \"Mobile\"),\n",
    "    CompPowerRoleCriteria([2, 3, 2, 2, 4], \"Desktop\"),\n",
    "    CompPowerRoleCriteria([5, 5, 5, 5, 5], \"Server\")\n",
    "]"
   ]
  },
  {
   "cell_type": "markdown",
   "metadata": {},
   "source": [
    "# Instantiate logical nodes with different parameters"
   ]
  },
  {
   "cell_type": "code",
   "execution_count": 5,
   "metadata": {
    "collapsed": false
   },
   "outputs": [],
   "source": [
    "# [processing_power, memory_capabilities, gpu_power, network_speed, storage_cap]\n",
    "nodes = [\n",
    "    LogicalNode(0, [1, 1, 1, 1, 1], role_criterias),\n",
    "    LogicalNode(1, [2, 2, 2, 2, 2], role_criterias),\n",
    "    LogicalNode(2, [4, 4, 4, 4, 4], role_criterias),\n",
    "    LogicalNode(3, [5, 5, 5, 5, 5], role_criterias)\n",
    "]"
   ]
  },
  {
   "cell_type": "markdown",
   "metadata": {},
   "source": [
    "# Set up the network"
   ]
  },
  {
   "cell_type": "code",
   "execution_count": 6,
   "metadata": {
    "collapsed": false
   },
   "outputs": [],
   "source": [
    "node_ip_addresses = [(\"localhost\", 5000 + i) for i in range(len(nodes))]\n",
    "networks = [LiveNetwork(node, node_ip_addresses) for node in nodes]\n",
    "server_starters = [threading.Thread(target=network.start_server) for network in networks]\n",
    "for server_starter in server_starters:\n",
    "    server_starter.start()"
   ]
  },
  {
   "cell_type": "markdown",
   "metadata": {},
   "source": [
    "# Run the role assignment algorithm"
   ]
  },
  {
   "cell_type": "code",
   "execution_count": 10,
   "metadata": {
    "collapsed": false
   },
   "outputs": [
    {
     "ename": "AttributeError",
     "evalue": "cannot access 'assignment_path'\n\n========= Remote Traceback (3) =========\nTraceback (most recent call last):\n  File \"/home/clemons/anaconda/lib/python2.7/site-packages/rpyc/core/protocol.py\", line 305, in _dispatch_request\n    res = self._HANDLERS[handler](self, *args)\n  File \"/home/clemons/anaconda/lib/python2.7/site-packages/rpyc/core/protocol.py\", line 535, in _handle_call\n    return self._local_objects[oid](*args, **dict(kwargs))\n  File \"/home/clemons/projects/ut/dp/DF_RoleMatrix/logical_node.py\", line 41, in begin_logical_assignment\n    return self.network.send_token(self.node_id, next_node_id, token)\n  File \"/home/clemons/projects/ut/dp/DF_RoleMatrix/network.py\", line 23, in send_token\n    return self.logical_nodes[dst_node_id].receive_token(src_node_id, token)\n  File \"/home/clemons/anaconda/lib/python2.7/site-packages/rpyc/core/netref.py\", line 196, in __call__\n    return syncreq(_self, consts.HANDLE_CALL, args, kwargs)\n  File \"/home/clemons/anaconda/lib/python2.7/site-packages/rpyc/core/netref.py\", line 71, in syncreq\n    return conn.sync_request(handler, oid, *args)\n  File \"/home/clemons/anaconda/lib/python2.7/site-packages/rpyc/core/protocol.py\", line 441, in sync_request\n    raise obj\nAttributeError: cannot access 'assignment_path'\n\n========= Remote Traceback (2) =========\nTraceback (most recent call last):\n  File \"/home/clemons/anaconda/lib/python2.7/site-packages/rpyc/core/protocol.py\", line 305, in _dispatch_request\n    res = self._HANDLERS[handler](self, *args)\n  File \"/home/clemons/anaconda/lib/python2.7/site-packages/rpyc/core/protocol.py\", line 535, in _handle_call\n    return self._local_objects[oid](*args, **dict(kwargs))\n  File \"/home/clemons/projects/ut/dp/DF_RoleMatrix/logical_node.py\", line 102, in receive_token\n    self.choose_role_if_available(token)\n  File \"/home/clemons/projects/ut/dp/DF_RoleMatrix/logical_node.py\", line 129, in choose_role_if_available\n    token.assignment_path = self.create_assigment_path(updated_assignment_indexes)\n  File \"/home/clemons/anaconda/lib/python2.7/site-packages/rpyc/core/netref.py\", line 160, in __setattr__\n    syncreq(self, consts.HANDLE_SETATTR, name, value)\n  File \"/home/clemons/anaconda/lib/python2.7/site-packages/rpyc/core/netref.py\", line 71, in syncreq\n    return conn.sync_request(handler, oid, *args)\n  File \"/home/clemons/anaconda/lib/python2.7/site-packages/rpyc/core/protocol.py\", line 441, in sync_request\n    raise obj\nAttributeError: cannot access 'assignment_path'\n\n========= Remote Traceback (1) =========\nTraceback (most recent call last):\n  File \"/home/clemons/anaconda/lib/python2.7/site-packages/rpyc/core/protocol.py\", line 305, in _dispatch_request\n    res = self._HANDLERS[handler](self, *args)\n  File \"/home/clemons/anaconda/lib/python2.7/site-packages/rpyc/core/protocol.py\", line 545, in _handle_setattr\n    return self._access_attr(oid, name, (value,), \"_rpyc_setattr\", \"allow_setattr\", setattr)\n  File \"/home/clemons/anaconda/lib/python2.7/site-packages/rpyc/core/protocol.py\", line 504, in _access_attr\n    raise AttributeError(\"cannot access %r\" % (name,))\nAttributeError: cannot access 'assignment_path'\n\n\n",
     "output_type": "error",
     "traceback": [
      "\u001b[1;31m---------------------------------------------------------------------------\u001b[0m",
      "\u001b[1;31mAttributeError\u001b[0m                            Traceback (most recent call last)",
      "\u001b[1;32m<ipython-input-10-8a6c911c71cc>\u001b[0m in \u001b[0;36m<module>\u001b[1;34m()\u001b[0m\n\u001b[0;32m      2\u001b[0m \u001b[1;32mimport\u001b[0m \u001b[0mrpyc\u001b[0m\u001b[1;33m\u001b[0m\u001b[0m\n\u001b[0;32m      3\u001b[0m \u001b[0mclient\u001b[0m \u001b[1;33m=\u001b[0m \u001b[0mrpyc\u001b[0m\u001b[1;33m.\u001b[0m\u001b[0mconnect\u001b[0m\u001b[1;33m(\u001b[0m\u001b[0mnode_ip_addresses\u001b[0m\u001b[1;33m[\u001b[0m\u001b[1;36m0\u001b[0m\u001b[1;33m]\u001b[0m\u001b[1;33m[\u001b[0m\u001b[1;36m0\u001b[0m\u001b[1;33m]\u001b[0m\u001b[1;33m,\u001b[0m \u001b[0mnode_ip_addresses\u001b[0m\u001b[1;33m[\u001b[0m\u001b[1;36m0\u001b[0m\u001b[1;33m]\u001b[0m\u001b[1;33m[\u001b[0m\u001b[1;36m1\u001b[0m\u001b[1;33m]\u001b[0m\u001b[1;33m)\u001b[0m\u001b[1;33m\u001b[0m\u001b[0m\n\u001b[1;32m----> 4\u001b[1;33m \u001b[0mtoken\u001b[0m \u001b[1;33m=\u001b[0m \u001b[0mclient\u001b[0m\u001b[1;33m.\u001b[0m\u001b[0mroot\u001b[0m\u001b[1;33m.\u001b[0m\u001b[0mbegin_logical_assignment\u001b[0m\u001b[1;33m(\u001b[0m\u001b[1;33m)\u001b[0m\u001b[1;33m\u001b[0m\u001b[0m\n\u001b[0m",
      "\u001b[1;32m/home/clemons/anaconda/lib/python2.7/site-packages/rpyc/core/netref.pyc\u001b[0m in \u001b[0;36m__call__\u001b[1;34m(_self, *args, **kwargs)\u001b[0m\n\u001b[0;32m    194\u001b[0m         \u001b[1;32mdef\u001b[0m \u001b[0m__call__\u001b[0m\u001b[1;33m(\u001b[0m\u001b[0m_self\u001b[0m\u001b[1;33m,\u001b[0m \u001b[1;33m*\u001b[0m\u001b[0margs\u001b[0m\u001b[1;33m,\u001b[0m \u001b[1;33m**\u001b[0m\u001b[0mkwargs\u001b[0m\u001b[1;33m)\u001b[0m\u001b[1;33m:\u001b[0m\u001b[1;33m\u001b[0m\u001b[0m\n\u001b[0;32m    195\u001b[0m             \u001b[0mkwargs\u001b[0m \u001b[1;33m=\u001b[0m \u001b[0mtuple\u001b[0m\u001b[1;33m(\u001b[0m\u001b[0mkwargs\u001b[0m\u001b[1;33m.\u001b[0m\u001b[0mitems\u001b[0m\u001b[1;33m(\u001b[0m\u001b[1;33m)\u001b[0m\u001b[1;33m)\u001b[0m\u001b[1;33m\u001b[0m\u001b[0m\n\u001b[1;32m--> 196\u001b[1;33m             \u001b[1;32mreturn\u001b[0m \u001b[0msyncreq\u001b[0m\u001b[1;33m(\u001b[0m\u001b[0m_self\u001b[0m\u001b[1;33m,\u001b[0m \u001b[0mconsts\u001b[0m\u001b[1;33m.\u001b[0m\u001b[0mHANDLE_CALL\u001b[0m\u001b[1;33m,\u001b[0m \u001b[0margs\u001b[0m\u001b[1;33m,\u001b[0m \u001b[0mkwargs\u001b[0m\u001b[1;33m)\u001b[0m\u001b[1;33m\u001b[0m\u001b[0m\n\u001b[0m\u001b[0;32m    197\u001b[0m         \u001b[0m__call__\u001b[0m\u001b[1;33m.\u001b[0m\u001b[0m__doc__\u001b[0m \u001b[1;33m=\u001b[0m \u001b[0mdoc\u001b[0m\u001b[1;33m\u001b[0m\u001b[0m\n\u001b[0;32m    198\u001b[0m         \u001b[1;32mreturn\u001b[0m \u001b[0m__call__\u001b[0m\u001b[1;33m\u001b[0m\u001b[0m\n",
      "\u001b[1;32m/home/clemons/anaconda/lib/python2.7/site-packages/rpyc/core/netref.pyc\u001b[0m in \u001b[0;36msyncreq\u001b[1;34m(proxy, handler, *args)\u001b[0m\n\u001b[0;32m     69\u001b[0m         \u001b[1;32mraise\u001b[0m \u001b[0mReferenceError\u001b[0m\u001b[1;33m(\u001b[0m\u001b[1;34m'weakly-referenced object no longer exists'\u001b[0m\u001b[1;33m)\u001b[0m\u001b[1;33m\u001b[0m\u001b[0m\n\u001b[0;32m     70\u001b[0m     \u001b[0moid\u001b[0m \u001b[1;33m=\u001b[0m \u001b[0mobject\u001b[0m\u001b[1;33m.\u001b[0m\u001b[0m__getattribute__\u001b[0m\u001b[1;33m(\u001b[0m\u001b[0mproxy\u001b[0m\u001b[1;33m,\u001b[0m \u001b[1;34m\"____oid__\"\u001b[0m\u001b[1;33m)\u001b[0m\u001b[1;33m\u001b[0m\u001b[0m\n\u001b[1;32m---> 71\u001b[1;33m     \u001b[1;32mreturn\u001b[0m \u001b[0mconn\u001b[0m\u001b[1;33m.\u001b[0m\u001b[0msync_request\u001b[0m\u001b[1;33m(\u001b[0m\u001b[0mhandler\u001b[0m\u001b[1;33m,\u001b[0m \u001b[0moid\u001b[0m\u001b[1;33m,\u001b[0m \u001b[1;33m*\u001b[0m\u001b[0margs\u001b[0m\u001b[1;33m)\u001b[0m\u001b[1;33m\u001b[0m\u001b[0m\n\u001b[0m\u001b[0;32m     72\u001b[0m \u001b[1;33m\u001b[0m\u001b[0m\n\u001b[0;32m     73\u001b[0m \u001b[1;32mdef\u001b[0m \u001b[0masyncreq\u001b[0m\u001b[1;33m(\u001b[0m\u001b[0mproxy\u001b[0m\u001b[1;33m,\u001b[0m \u001b[0mhandler\u001b[0m\u001b[1;33m,\u001b[0m \u001b[1;33m*\u001b[0m\u001b[0margs\u001b[0m\u001b[1;33m)\u001b[0m\u001b[1;33m:\u001b[0m\u001b[1;33m\u001b[0m\u001b[0m\n",
      "\u001b[1;32m/home/clemons/anaconda/lib/python2.7/site-packages/rpyc/core/protocol.pyc\u001b[0m in \u001b[0;36msync_request\u001b[1;34m(self, handler, *args)\u001b[0m\n\u001b[0;32m    439\u001b[0m         \u001b[0misexc\u001b[0m\u001b[1;33m,\u001b[0m \u001b[0mobj\u001b[0m \u001b[1;33m=\u001b[0m \u001b[0mself\u001b[0m\u001b[1;33m.\u001b[0m\u001b[0m_sync_replies\u001b[0m\u001b[1;33m.\u001b[0m\u001b[0mpop\u001b[0m\u001b[1;33m(\u001b[0m\u001b[0mseq\u001b[0m\u001b[1;33m)\u001b[0m\u001b[1;33m\u001b[0m\u001b[0m\n\u001b[0;32m    440\u001b[0m         \u001b[1;32mif\u001b[0m \u001b[0misexc\u001b[0m\u001b[1;33m:\u001b[0m\u001b[1;33m\u001b[0m\u001b[0m\n\u001b[1;32m--> 441\u001b[1;33m             \u001b[1;32mraise\u001b[0m \u001b[0mobj\u001b[0m\u001b[1;33m\u001b[0m\u001b[0m\n\u001b[0m\u001b[0;32m    442\u001b[0m         \u001b[1;32melse\u001b[0m\u001b[1;33m:\u001b[0m\u001b[1;33m\u001b[0m\u001b[0m\n\u001b[0;32m    443\u001b[0m             \u001b[1;32mreturn\u001b[0m \u001b[0mobj\u001b[0m\u001b[1;33m\u001b[0m\u001b[0m\n",
      "\u001b[1;31mAttributeError\u001b[0m: cannot access 'assignment_path'\n\n========= Remote Traceback (3) =========\nTraceback (most recent call last):\n  File \"/home/clemons/anaconda/lib/python2.7/site-packages/rpyc/core/protocol.py\", line 305, in _dispatch_request\n    res = self._HANDLERS[handler](self, *args)\n  File \"/home/clemons/anaconda/lib/python2.7/site-packages/rpyc/core/protocol.py\", line 535, in _handle_call\n    return self._local_objects[oid](*args, **dict(kwargs))\n  File \"/home/clemons/projects/ut/dp/DF_RoleMatrix/logical_node.py\", line 41, in begin_logical_assignment\n    return self.network.send_token(self.node_id, next_node_id, token)\n  File \"/home/clemons/projects/ut/dp/DF_RoleMatrix/network.py\", line 23, in send_token\n    return self.logical_nodes[dst_node_id].receive_token(src_node_id, token)\n  File \"/home/clemons/anaconda/lib/python2.7/site-packages/rpyc/core/netref.py\", line 196, in __call__\n    return syncreq(_self, consts.HANDLE_CALL, args, kwargs)\n  File \"/home/clemons/anaconda/lib/python2.7/site-packages/rpyc/core/netref.py\", line 71, in syncreq\n    return conn.sync_request(handler, oid, *args)\n  File \"/home/clemons/anaconda/lib/python2.7/site-packages/rpyc/core/protocol.py\", line 441, in sync_request\n    raise obj\nAttributeError: cannot access 'assignment_path'\n\n========= Remote Traceback (2) =========\nTraceback (most recent call last):\n  File \"/home/clemons/anaconda/lib/python2.7/site-packages/rpyc/core/protocol.py\", line 305, in _dispatch_request\n    res = self._HANDLERS[handler](self, *args)\n  File \"/home/clemons/anaconda/lib/python2.7/site-packages/rpyc/core/protocol.py\", line 535, in _handle_call\n    return self._local_objects[oid](*args, **dict(kwargs))\n  File \"/home/clemons/projects/ut/dp/DF_RoleMatrix/logical_node.py\", line 102, in receive_token\n    self.choose_role_if_available(token)\n  File \"/home/clemons/projects/ut/dp/DF_RoleMatrix/logical_node.py\", line 129, in choose_role_if_available\n    token.assignment_path = self.create_assigment_path(updated_assignment_indexes)\n  File \"/home/clemons/anaconda/lib/python2.7/site-packages/rpyc/core/netref.py\", line 160, in __setattr__\n    syncreq(self, consts.HANDLE_SETATTR, name, value)\n  File \"/home/clemons/anaconda/lib/python2.7/site-packages/rpyc/core/netref.py\", line 71, in syncreq\n    return conn.sync_request(handler, oid, *args)\n  File \"/home/clemons/anaconda/lib/python2.7/site-packages/rpyc/core/protocol.py\", line 441, in sync_request\n    raise obj\nAttributeError: cannot access 'assignment_path'\n\n========= Remote Traceback (1) =========\nTraceback (most recent call last):\n  File \"/home/clemons/anaconda/lib/python2.7/site-packages/rpyc/core/protocol.py\", line 305, in _dispatch_request\n    res = self._HANDLERS[handler](self, *args)\n  File \"/home/clemons/anaconda/lib/python2.7/site-packages/rpyc/core/protocol.py\", line 545, in _handle_setattr\n    return self._access_attr(oid, name, (value,), \"_rpyc_setattr\", \"allow_setattr\", setattr)\n  File \"/home/clemons/anaconda/lib/python2.7/site-packages/rpyc/core/protocol.py\", line 504, in _access_attr\n    raise AttributeError(\"cannot access %r\" % (name,))\nAttributeError: cannot access 'assignment_path'\n\n\n"
     ]
    }
   ],
   "source": [
    "#client = LiveNetwork.create_client(node_ip_addresses[0])\n",
    "import rpyc\n",
    "client = rpyc.connect(node_ip_addresses[0][0], node_ip_addresses[0][1], config = {\"allow_public_attrs\": True})\n",
    "token = client.root.begin_logical_assignment()"
   ]
  },
  {
   "cell_type": "markdown",
   "metadata": {},
   "source": [
    "# Inspect the results"
   ]
  },
  {
   "cell_type": "code",
   "execution_count": 101,
   "metadata": {
    "collapsed": false
   },
   "outputs": [
    {
     "name": "stdout",
     "output_type": "stream",
     "text": [
      "Success - all roles assigned!\n",
      "Node 1's role: Mobile\n",
      "Node 2's role: Desktop\n",
      "Node 3's role: Server\n"
     ]
    }
   ],
   "source": [
    "if token:\n",
    "    print \"Error - one or more roles could not be assigned\"\n",
    "    for role_id in token.unassigned_roles:\n",
    "        print \"Role %d: %s\" % (role_id, role_criterias[role_id].name)\n",
    "else:\n",
    "    print \"Success - all roles assigned!\"\n",
    "    for node in nodes:\n",
    "        if node.assigned_role is not None:\n",
    "            print \"Node %d's role: %s\" % (node.node_id, role_criterias[node.assigned_role].name)"
   ]
  },
  {
   "cell_type": "code",
   "execution_count": null,
   "metadata": {
    "collapsed": true
   },
   "outputs": [],
   "source": [
    "nodes[2].parameters = [4, 4, 4, 4, 3]"
   ]
  },
  {
   "cell_type": "code",
   "execution_count": 12,
   "metadata": {
    "collapsed": true
   },
   "outputs": [],
   "source": [
    "for network in networks:\n",
    "    network.stop_server()"
   ]
  },
  {
   "cell_type": "code",
   "execution_count": null,
   "metadata": {
    "collapsed": true
   },
   "outputs": [],
   "source": []
  },
  {
   "cell_type": "code",
   "execution_count": null,
   "metadata": {
    "collapsed": true
   },
   "outputs": [],
   "source": []
  }
 ],
 "metadata": {
  "kernelspec": {
   "display_name": "Python 2",
   "language": "python",
   "name": "python2"
  },
  "language_info": {
   "codemirror_mode": {
    "name": "ipython",
    "version": 2
   },
   "file_extension": ".py",
   "mimetype": "text/x-python",
   "name": "python",
   "nbconvert_exporter": "python",
   "pygments_lexer": "ipython2",
   "version": "2.7.10"
  }
 },
 "nbformat": 4,
 "nbformat_minor": 0
}
