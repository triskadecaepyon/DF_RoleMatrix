{
 "cells": [
  {
   "cell_type": "code",
   "execution_count": 1,
   "metadata": {
    "collapsed": false
   },
   "outputs": [],
   "source": [
    "import os\n",
    "import sys\n",
    "import threading\n",
    "\n",
    "lib_path = os.path.abspath(os.path.join('.', '..'))\n",
    "sys.path.append(lib_path)"
   ]
  },
  {
   "cell_type": "markdown",
   "metadata": {},
   "source": [
    "# Import framework modules"
   ]
  },
  {
   "cell_type": "code",
   "execution_count": 2,
   "metadata": {
    "collapsed": false
   },
   "outputs": [],
   "source": [
    "from role_criteria import RoleCriteria\n",
    "from logical_node import LogicalNode\n",
    "from network import LiveNetwork"
   ]
  },
  {
   "cell_type": "markdown",
   "metadata": {},
   "source": [
    "# Define the role criteria template class"
   ]
  },
  {
   "cell_type": "code",
   "execution_count": 3,
   "metadata": {
    "collapsed": false
   },
   "outputs": [],
   "source": [
    "class CompPowerRoleCriteria(RoleCriteria):\n",
    "  \n",
    "    def __init__(self, grade_vector, name):\n",
    "        self.__GRADE_VECTOR__ = grade_vector\n",
    "        self.__PROCESSING_POWER__ = self.__GRADE_VECTOR__[0]\n",
    "        self.__MEMORY_CAPABILITIES__ = self.__GRADE_VECTOR__[1]\n",
    "        self.__GPU_POWER__ = self.__GRADE_VECTOR__[2]\n",
    "        self.__NETWORK_SPEED__ = self.__GRADE_VECTOR__[3]\n",
    "        self.__STORAGE__CAP = self.__GRADE_VECTOR__[4]\n",
    "        self.name = name       \n",
    "    \n",
    "    def evaluate_against(self, node_parameters):\n",
    "        \"\"\"\n",
    "        Used to compare roles from a 5 element list of values.  \n",
    "        Returns the sum of the node_parameters if all characteristics are satisfied.\n",
    "        Otherwise, returns 0.\n",
    "        \"\"\"\n",
    "        \n",
    "        num_characteristics_satisfied = 0\n",
    "        \n",
    "        if node_parameters[0] >= self.__PROCESSING_POWER__:\n",
    "            num_characteristics_satisfied += 1\n",
    "        if node_parameters[1] >= self.__MEMORY_CAPABILITIES__:\n",
    "            num_characteristics_satisfied += 1\n",
    "        if node_parameters[2] >= self.__GPU_POWER__:\n",
    "            num_characteristics_satisfied += 1\n",
    "        if node_parameters[3] >= self.__NETWORK_SPEED__:\n",
    "            num_characteristics_satisfied += 1\n",
    "        if node_parameters[4] >= self.__STORAGE__CAP:\n",
    "            num_characteristics_satisfied += 1\n",
    "            \n",
    "        # All characteristics must be satisfied\n",
    "        if num_characteristics_satisfied == 5:\n",
    "            return sum(node_parameters)\n",
    "        else:\n",
    "            return 0"
   ]
  },
  {
   "cell_type": "markdown",
   "metadata": {},
   "source": [
    "# Instantiate role criterias to create different roles"
   ]
  },
  {
   "cell_type": "code",
   "execution_count": 4,
   "metadata": {
    "collapsed": false
   },
   "outputs": [],
   "source": [
    "# [processing_power, memory_capabilities, gpu_power, network_speed, storage_cap]\n",
    "role_criterias = [\n",
    "    CompPowerRoleCriteria([1, 1, 1, 1, 1], \"Mobile\"),\n",
    "    CompPowerRoleCriteria([2, 3, 2, 2, 4], \"Desktop\"),\n",
    "    CompPowerRoleCriteria([5, 5, 5, 5, 5], \"Server\")\n",
    "]"
   ]
  },
  {
   "cell_type": "markdown",
   "metadata": {},
   "source": [
    "# Instantiate logical nodes with different parameters"
   ]
  },
  {
   "cell_type": "code",
   "execution_count": 5,
   "metadata": {
    "collapsed": false
   },
   "outputs": [],
   "source": [
    "# [processing_power, memory_capabilities, gpu_power, network_speed, storage_cap]\n",
    "nodes = [\n",
    "    LogicalNode(0, [1, 1, 1, 1, 1], role_criterias),\n",
    "    LogicalNode(1, [2, 2, 2, 2, 2], role_criterias),\n",
    "    LogicalNode(2, [4, 4, 4, 4, 4], role_criterias),\n",
    "    LogicalNode(3, [5, 5, 5, 5, 5], role_criterias)\n",
    "]"
   ]
  },
  {
   "cell_type": "markdown",
   "metadata": {},
   "source": [
    "# Set up the network"
   ]
  },
  {
   "cell_type": "code",
   "execution_count": 6,
   "metadata": {
    "collapsed": false
   },
   "outputs": [],
   "source": [
    "node_ip_addresses = [(\"localhost\", 5000 + i) for i in range(len(nodes))]\n",
    "networks = [LiveNetwork(node, node_ip_addresses) for node in nodes]\n",
    "server_starters = [threading.Thread(target=network.start_server) for network in networks]\n",
    "for server_starter in server_starters:\n",
    "    server_starter.start()\n",
    "    \n",
    "client = LiveNetwork.create_conn(node_ip_addresses[1])"
   ]
  },
  {
   "cell_type": "markdown",
   "metadata": {},
   "source": [
    "# Run the role assignment algorithm"
   ]
  },
  {
   "cell_type": "code",
   "execution_count": 7,
   "metadata": {
    "collapsed": false
   },
   "outputs": [],
   "source": [
    "token = client.root.begin_logical_assignment()"
   ]
  },
  {
   "cell_type": "markdown",
   "metadata": {},
   "source": [
    "# Inspect the results"
   ]
  },
  {
   "cell_type": "code",
   "execution_count": 8,
   "metadata": {
    "collapsed": false
   },
   "outputs": [
    {
     "name": "stdout",
     "output_type": "stream",
     "text": [
      "Success - all roles assigned!\n",
      "Node 1's role: Mobile\n",
      "Node 2's role: Desktop\n",
      "Node 3's role: Server\n"
     ]
    }
   ],
   "source": [
    "if token:\n",
    "    print \"Error - one or more roles could not be assigned\"\n",
    "    for role_id in token.unassigned_roles:\n",
    "        print \"Role %d: %s\" % (role_id, role_criterias[role_id].name)\n",
    "else:\n",
    "    print \"Success - all roles assigned!\"\n",
    "    for node in nodes:\n",
    "        if node.assigned_role is not None:\n",
    "            print \"Node %d's role: %s\" % (node.node_id, role_criterias[node.assigned_role].name)"
   ]
  },
  {
   "cell_type": "markdown",
   "metadata": {},
   "source": [
    "# Force an assignment failure"
   ]
  },
  {
   "cell_type": "code",
   "execution_count": 9,
   "metadata": {
    "collapsed": true
   },
   "outputs": [],
   "source": [
    "nodes[2].parameters = [4, 4, 4, 4, 3]"
   ]
  },
  {
   "cell_type": "markdown",
   "metadata": {},
   "source": [
    "# Clean up"
   ]
  },
  {
   "cell_type": "code",
   "execution_count": 10,
   "metadata": {
    "collapsed": true
   },
   "outputs": [],
   "source": [
    "for network in networks:\n",
    "    network.stop_server()"
   ]
  }
 ],
 "metadata": {
  "kernelspec": {
   "display_name": "Python 2",
   "language": "python",
   "name": "python2"
  },
  "language_info": {
   "codemirror_mode": {
    "name": "ipython",
    "version": 2
   },
   "file_extension": ".py",
   "mimetype": "text/x-python",
   "name": "python",
   "nbconvert_exporter": "python",
   "pygments_lexer": "ipython2",
   "version": "2.7.10"
  }
 },
 "nbformat": 4,
 "nbformat_minor": 0
}
